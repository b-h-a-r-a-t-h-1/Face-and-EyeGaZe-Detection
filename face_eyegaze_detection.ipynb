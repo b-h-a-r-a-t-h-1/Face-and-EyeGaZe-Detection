{
 "cells": [
  {
   "cell_type": "code",
   "execution_count": null,
   "id": "e26920ba",
   "metadata": {},
   "outputs": [],
   "source": [
    "import cv2\n",
    "import dlib\n",
    "import numpy as np\n",
    "from imutils import face_utils"
   ]
  },
  {
   "cell_type": "code",
   "execution_count": null,
   "id": "ff213915",
   "metadata": {},
   "outputs": [],
   "source": [
    "face_detector = dlib.get_frontal_face_detector()\n",
    "landmark_predictor = dlib.shape_predictor('shape_predictor_68_face_landmarks.dat')\n",
    "\n",
    "# Eye landmarks indices\n",
    "(lStart, lEnd) = face_utils.FACIAL_LANDMARKS_IDXS['left_eye']\n",
    "(rStart, rEnd) = face_utils.FACIAL_LANDMARKS_IDXS['right_eye']\n",
    "\n",
    "# Function: midpoint of two points\n",
    "def midpoint(p1 ,p2):\n",
    "    return int((p1.x + p2.x)/2), int((p1.y + p2.y)/2)"
   ]
  },
  {
   "cell_type": "code",
   "execution_count": null,
   "id": "b1b4f0ad",
   "metadata": {},
   "outputs": [],
   "source": [
    "def eye_aspect_ratio(eye):\n",
    "    # Compute distances\n",
    "    A = np.linalg.norm(eye[1] - eye[5])\n",
    "    B = np.linalg.norm(eye[2] - eye[4])\n",
    "    C = np.linalg.norm(eye[0] - eye[3])\n",
    "    ear = (A + B) / (2.0 * C)\n",
    "    return ear"
   ]
  },
  {
   "cell_type": "code",
   "execution_count": null,
   "id": "b15f7ca8",
   "metadata": {},
   "outputs": [],
   "source": [
    "def get_gaze_ratio(eye_points, facial_landmarks, frame_gray):\n",
    "    # Eye region coordinates\n",
    "    eye_region = np.array([(facial_landmarks.part(point).x, facial_landmarks.part(point).y) \n",
    "                            for point in eye_points], np.int32)\n",
    "    # Create mask\n",
    "    height, width = frame_gray.shape\n",
    "    mask = np.zeros((height, width), np.uint8)\n",
    "    cv2.polylines(mask, [eye_region], True, 255, 2)\n",
    "    cv2.fillPoly(mask, [eye_region], 255)\n",
    "    eye = cv2.bitwise_and(frame_gray, frame_gray, mask=mask)\n",
    "\n",
    "    # Bounding rectangle\n",
    "    min_x = np.min(eye_region[:, 0])\n",
    "    max_x = np.max(eye_region[:, 0])\n",
    "    min_y = np.min(eye_region[:, 1])\n",
    "    max_y = np.max(eye_region[:, 1])\n",
    "    gray_eye = eye[min_y: max_y, min_x: max_x]\n",
    "    _, threshold_eye = cv2.threshold(gray_eye, 70, 255, cv2.THRESH_BINARY)\n",
    "\n",
    "    # Split into left and right halves\n",
    "    h, w = threshold_eye.shape\n",
    "    left_side = threshold_eye[0:h, 0:int(w/2)]\n",
    "    right_side = threshold_eye[0:h, int(w/2):w]\n",
    "\n",
    "    # Count white pixels\n",
    "    left_white = cv2.countNonZero(left_side)\n",
    "    right_white = cv2.countNonZero(right_side)\n",
    "\n",
    "    if right_white == 0:\n",
    "        gaze_ratio = 1\n",
    "    else:\n",
    "        gaze_ratio = left_white / right_white\n",
    "    return gaze_ratio"
   ]
  },
  {
   "cell_type": "code",
   "execution_count": null,
   "id": "43501009",
   "metadata": {},
   "outputs": [],
   "source": [
    "cap = cv2.VideoCapture(0)\n",
    "\n",
    "while True:\n",
    "    ret, frame = cap.read()\n",
    "    frame = cv2.flip(frame, 1)\n",
    "    gray = cv2.cvtColor(frame, cv2.COLOR_BGR2GRAY)\n",
    "\n",
    "    faces = face_detector(gray)\n",
    "    for face in faces:\n",
    "        landmarks = landmark_predictor(gray, face)\n",
    "        # Detect and draw face rectangle\n",
    "        x1, y1 = face.left(), face.top()\n",
    "        x2, y2 = face.right(), face.bottom()\n",
    "        cv2.rectangle(frame, (x1, y1), (x2, y2), (0,255,0), 2)\n",
    "\n",
    "        # Gaze for each eye\n",
    "        left_gaze = get_gaze_ratio(range(lStart, lEnd), landmarks, gray)\n",
    "        right_gaze = get_gaze_ratio(range(rStart, rEnd), landmarks, gray)\n",
    "        gaze_ratio = (left_gaze + right_gaze) / 2\n",
    "\n",
    "        # Interpret gaze\n",
    "        if gaze_ratio < 0.8:\n",
    "            gaze = \"Right\"\n",
    "        elif gaze_ratio > 1.2:\n",
    "            gaze = \"Left\"\n",
    "        else:\n",
    "            gaze = \"Center\"\n",
    "\n",
    "        # Display gaze direction\n",
    "        cv2.putText(frame, gaze, (face.left(), face.top()-10), cv2.FONT_HERSHEY_SIMPLEX, 0.7, (255,0,0), 2)\n",
    "\n",
    "    cv2.imshow(\"Gaze Detection\", frame)\n",
    "    key = cv2.waitKey(1)\n",
    "    if key == 27:  # ESC to exit\n",
    "        break\n",
    "\n",
    "cap.release()\n",
    "cv2.destroyAllWindows()\n",
    "\n",
    "# Cell 6: Results and Cleanup\n",
    "print(\"Gaze detection session ended.\")\n"
   ]
  }
 ],
 "metadata": {
  "kernelspec": {
   "display_name": "Python 3",
   "language": "python",
   "name": "python3"
  },
  "language_info": {
   "codemirror_mode": {
    "name": "ipython",
    "version": 3
   },
   "file_extension": ".py",
   "mimetype": "text/x-python",
   "name": "python",
   "nbconvert_exporter": "python",
   "pygments_lexer": "ipython3",
   "version": "3.12.6"
  }
 },
 "nbformat": 4,
 "nbformat_minor": 5
}
